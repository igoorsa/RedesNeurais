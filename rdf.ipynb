{
 "cells": [
  {
   "cell_type": "code",
   "execution_count": 1,
   "metadata": {},
   "outputs": [
    {
     "name": "stderr",
     "output_type": "stream",
     "text": [
      "c:\\Users\\igor8\\anaconda3\\envs\\tf\\lib\\site-packages\\tensorflow\\python\\framework\\dtypes.py:526: FutureWarning: Passing (type, 1) or '1type' as a synonym of type is deprecated; in a future version of numpy, it will be understood as (type, (1,)) / '(1,)type'.\n",
      "  _np_qint8 = np.dtype([(\"qint8\", np.int8, 1)])\n",
      "c:\\Users\\igor8\\anaconda3\\envs\\tf\\lib\\site-packages\\tensorflow\\python\\framework\\dtypes.py:527: FutureWarning: Passing (type, 1) or '1type' as a synonym of type is deprecated; in a future version of numpy, it will be understood as (type, (1,)) / '(1,)type'.\n",
      "  _np_quint8 = np.dtype([(\"quint8\", np.uint8, 1)])\n",
      "c:\\Users\\igor8\\anaconda3\\envs\\tf\\lib\\site-packages\\tensorflow\\python\\framework\\dtypes.py:528: FutureWarning: Passing (type, 1) or '1type' as a synonym of type is deprecated; in a future version of numpy, it will be understood as (type, (1,)) / '(1,)type'.\n",
      "  _np_qint16 = np.dtype([(\"qint16\", np.int16, 1)])\n",
      "c:\\Users\\igor8\\anaconda3\\envs\\tf\\lib\\site-packages\\tensorflow\\python\\framework\\dtypes.py:529: FutureWarning: Passing (type, 1) or '1type' as a synonym of type is deprecated; in a future version of numpy, it will be understood as (type, (1,)) / '(1,)type'.\n",
      "  _np_quint16 = np.dtype([(\"quint16\", np.uint16, 1)])\n",
      "c:\\Users\\igor8\\anaconda3\\envs\\tf\\lib\\site-packages\\tensorflow\\python\\framework\\dtypes.py:530: FutureWarning: Passing (type, 1) or '1type' as a synonym of type is deprecated; in a future version of numpy, it will be understood as (type, (1,)) / '(1,)type'.\n",
      "  _np_qint32 = np.dtype([(\"qint32\", np.int32, 1)])\n",
      "c:\\Users\\igor8\\anaconda3\\envs\\tf\\lib\\site-packages\\tensorflow\\python\\framework\\dtypes.py:535: FutureWarning: Passing (type, 1) or '1type' as a synonym of type is deprecated; in a future version of numpy, it will be understood as (type, (1,)) / '(1,)type'.\n",
      "  np_resource = np.dtype([(\"resource\", np.ubyte, 1)])\n"
     ]
    }
   ],
   "source": [
    "import tensorflow as tf\n",
    "from tensorflow.examples.tutorials.mnist import input_data"
   ]
  },
  {
   "cell_type": "code",
   "execution_count": 2,
   "metadata": {},
   "outputs": [
    {
     "name": "stdout",
     "output_type": "stream",
     "text": [
      "WARNING:tensorflow:From C:\\Users\\igor8\\AppData\\Local\\Temp\\ipykernel_3320\\845908512.py:1: read_data_sets (from tensorflow.contrib.learn.python.learn.datasets.mnist) is deprecated and will be removed in a future version.\n",
      "Instructions for updating:\n",
      "Please use alternatives such as official/mnist/dataset.py from tensorflow/models.\n",
      "WARNING:tensorflow:From c:\\Users\\igor8\\anaconda3\\envs\\tf\\lib\\site-packages\\tensorflow\\contrib\\learn\\python\\learn\\datasets\\mnist.py:260: maybe_download (from tensorflow.contrib.learn.python.learn.datasets.base) is deprecated and will be removed in a future version.\n",
      "Instructions for updating:\n",
      "Please write your own downloading logic.\n",
      "WARNING:tensorflow:From c:\\Users\\igor8\\anaconda3\\envs\\tf\\lib\\site-packages\\tensorflow\\contrib\\learn\\python\\learn\\datasets\\base.py:252: _internal_retry.<locals>.wrap.<locals>.wrapped_fn (from tensorflow.contrib.learn.python.learn.datasets.base) is deprecated and will be removed in a future version.\n",
      "Instructions for updating:\n",
      "Please use urllib or similar directly.\n",
      "Successfully downloaded train-images-idx3-ubyte.gz 9912422 bytes.\n",
      "WARNING:tensorflow:From c:\\Users\\igor8\\anaconda3\\envs\\tf\\lib\\site-packages\\tensorflow\\contrib\\learn\\python\\learn\\datasets\\mnist.py:262: extract_images (from tensorflow.contrib.learn.python.learn.datasets.mnist) is deprecated and will be removed in a future version.\n",
      "Instructions for updating:\n",
      "Please use tf.data to implement this functionality.\n",
      "Extracting mnist.data/train-images-idx3-ubyte.gz\n",
      "Successfully downloaded train-labels-idx1-ubyte.gz 28881 bytes.\n",
      "WARNING:tensorflow:From c:\\Users\\igor8\\anaconda3\\envs\\tf\\lib\\site-packages\\tensorflow\\contrib\\learn\\python\\learn\\datasets\\mnist.py:267: extract_labels (from tensorflow.contrib.learn.python.learn.datasets.mnist) is deprecated and will be removed in a future version.\n",
      "Instructions for updating:\n",
      "Please use tf.data to implement this functionality.\n",
      "Extracting mnist.data/train-labels-idx1-ubyte.gz\n",
      "WARNING:tensorflow:From c:\\Users\\igor8\\anaconda3\\envs\\tf\\lib\\site-packages\\tensorflow\\contrib\\learn\\python\\learn\\datasets\\mnist.py:110: dense_to_one_hot (from tensorflow.contrib.learn.python.learn.datasets.mnist) is deprecated and will be removed in a future version.\n",
      "Instructions for updating:\n",
      "Please use tf.one_hot on tensors.\n",
      "Successfully downloaded t10k-images-idx3-ubyte.gz 1648877 bytes.\n",
      "Extracting mnist.data/t10k-images-idx3-ubyte.gz\n",
      "Successfully downloaded t10k-labels-idx1-ubyte.gz 4542 bytes.\n",
      "Extracting mnist.data/t10k-labels-idx1-ubyte.gz\n",
      "WARNING:tensorflow:From c:\\Users\\igor8\\anaconda3\\envs\\tf\\lib\\site-packages\\tensorflow\\contrib\\learn\\python\\learn\\datasets\\mnist.py:290: DataSet.__init__ (from tensorflow.contrib.learn.python.learn.datasets.mnist) is deprecated and will be removed in a future version.\n",
      "Instructions for updating:\n",
      "Please use alternatives such as official/mnist/dataset.py from tensorflow/models.\n"
     ]
    }
   ],
   "source": [
    "mnist = input_data.read_data_sets('mnist.data/',one_hot=True)"
   ]
  },
  {
   "cell_type": "code",
   "execution_count": 10,
   "metadata": {},
   "outputs": [],
   "source": [
    "#passar alguns pre parametros\n",
    "learning_rate = 0.001\n",
    "epochs = 10\n",
    "batch_size = 200"
   ]
  },
  {
   "cell_type": "code",
   "execution_count": 13,
   "metadata": {},
   "outputs": [],
   "source": [
    "#parametros para a rede Neural\n",
    "n_entrada = 784\n",
    "n_camada1 = 30\n",
    "n_camada2 = 30\n",
    "n_classe = 10"
   ]
  },
  {
   "cell_type": "code",
   "execution_count": 14,
   "metadata": {},
   "outputs": [],
   "source": [
    "#Criar as variaveis placeholder( entrada e saida )\n",
    "x = tf.placeholder(tf.float32,[None,n_entrada])\n",
    "y = tf.placeholder(tf.float32,[None,n_classe])"
   ]
  },
  {
   "cell_type": "code",
   "execution_count": 19,
   "metadata": {},
   "outputs": [],
   "source": [
    "#Criaçao dos pesoas, Bias, e a camada\n",
    "\n",
    "#Camada 1\n",
    "#Peso\n",
    "w1 = tf.Variable(tf.random.normal([n_entrada,n_camada1], stddev=0.05))\n",
    "#Bias\n",
    "b1 = tf.Variable(tf.zeros(n_camada1))\n",
    "#Layer\n",
    "layer_1 = tf.nn.relu(tf.add(tf.matmul(x,w1),b1))\n",
    "\n",
    "#Camada 2\n",
    "#Peso\n",
    "w2 =tf.Variable(tf.random.normal([n_camada1,n_camada2], stddev=0.05))\n",
    "#Bias\n",
    "b2 = tf.Variable(tf.zeros([n_camada2]))\n",
    "#layer\n",
    "layer_2 = tf.nn.relu(tf.add(tf.matmul(layer_1,w2),b2))\n",
    "\n",
    "#Camada3\n",
    "#peso\n",
    "w3 = tf.Variable(tf.random.normal([n_camada2,n_classe], stddev= 0.05))\n",
    "#Bias\n",
    "b3 = tf.Variable(tf.zeros([n_classe]))\n",
    "#layer\n",
    "saida = tf.matmul(layer_2,w3)+b3"
   ]
  },
  {
   "cell_type": "code",
   "execution_count": 20,
   "metadata": {},
   "outputs": [
    {
     "name": "stdout",
     "output_type": "stream",
     "text": [
      "WARNING:tensorflow:From C:\\Users\\igor8\\AppData\\Local\\Temp\\ipykernel_3320\\1467259021.py:2: softmax_cross_entropy_with_logits (from tensorflow.python.ops.nn_ops) is deprecated and will be removed in a future version.\n",
      "Instructions for updating:\n",
      "\n",
      "Future major versions of TensorFlow will allow gradients to flow\n",
      "into the labels input on backprop by default.\n",
      "\n",
      "See `tf.nn.softmax_cross_entropy_with_logits_v2`.\n",
      "\n"
     ]
    }
   ],
   "source": [
    "#Funçao de Custo ou mais conhecido como loss( Atençao nao foi passado no final da ultima camada o softmax pois ele é passado agora no loss)\n",
    "custo = tf.reduce_mean(tf.nn.softmax_cross_entropy_with_logits(logits=saida, labels = y))"
   ]
  },
  {
   "cell_type": "code",
   "execution_count": 22,
   "metadata": {},
   "outputs": [],
   "source": [
    "#Agora vamos criar a funçao do OPTIMIZER ADAM\n",
    "otimizador = tf.train.AdamOptimizer(learning_rate= learning_rate).minimize(custo)"
   ]
  },
  {
   "cell_type": "code",
   "execution_count": 23,
   "metadata": {},
   "outputs": [],
   "source": [
    "#Montando a fuinçao para poder testar o modelo\n",
    "predicoes = tf.equal(tf.argmax(saida,1),tf.argmax(y,1))"
   ]
  },
  {
   "cell_type": "code",
   "execution_count": 24,
   "metadata": {},
   "outputs": [],
   "source": [
    "#calculando a acuracia\n",
    "acuracia = tf.reduce_mean(tf.cast(predicoes,tf.float32))"
   ]
  },
  {
   "cell_type": "code",
   "execution_count": 26,
   "metadata": {},
   "outputs": [],
   "source": [
    "#INICIALIZAR AS VARIABLESSSSSSSSS!!!!!!!!!!!!!!\n",
    "init = tf.global_variables_initializer()"
   ]
  },
  {
   "cell_type": "code",
   "execution_count": 32,
   "metadata": {},
   "outputs": [
    {
     "name": "stdout",
     "output_type": "stream",
     "text": [
      "Epoch: 1 --Custo treino:  0.861\n",
      "Treinamento Concluido\n",
      "Acc do modelo:  0.8956\n",
      "Epoch: 2 --Custo treino:  0.326\n",
      "Treinamento Concluido\n",
      "Acc do modelo:  0.9174\n",
      "Epoch: 3 --Custo treino:  0.272\n",
      "Treinamento Concluido\n",
      "Acc do modelo:  0.9269\n",
      "Epoch: 4 --Custo treino:  0.236\n",
      "Treinamento Concluido\n",
      "Acc do modelo:  0.9341\n",
      "Epoch: 5 --Custo treino:  0.209\n",
      "Treinamento Concluido\n",
      "Acc do modelo:  0.9395\n",
      "Epoch: 6 --Custo treino:  0.185\n",
      "Treinamento Concluido\n",
      "Acc do modelo:  0.9417\n",
      "Epoch: 7 --Custo treino:  0.167\n",
      "Treinamento Concluido\n",
      "Acc do modelo:  0.9487\n",
      "Epoch: 8 --Custo treino:  0.152\n",
      "Treinamento Concluido\n",
      "Acc do modelo:  0.953\n",
      "Epoch: 9 --Custo treino:  0.140\n",
      "Treinamento Concluido\n",
      "Acc do modelo:  0.9545\n",
      "Epoch: 10 --Custo treino:  0.129\n",
      "Treinamento Concluido\n",
      "Acc do modelo:  0.9579\n"
     ]
    }
   ],
   "source": [
    "#ABRINDO SESSION\n",
    "with tf.Session() as sess:\n",
    "    sess.run(init)\n",
    "    #CICLO do TREINAMENTO\n",
    "    for epoch in range(epochs):\n",
    "        custo_medio = 0.0\n",
    "        total_batches = int(mnist.train.num_examples/batch_size)\n",
    "\n",
    "        #Loop para todas instruçoes\n",
    "        for i in range(total_batches):\n",
    "            batch_x, batch_y = mnist.train.next_batch(batch_size)\n",
    "            #Fit trianing usando batch_data\n",
    "            sess.run(otimizador,feed_dict={x:batch_x,y:batch_y})\n",
    "            #Coputando o custo(loss), médio de uma epoch\n",
    "            custo_medio += sess.run(custo,feed_dict={x:batch_x,y:batch_y})/total_batches\n",
    "        #Assim rodando a acuracia para cada epoch\n",
    "        acuracia_teste = sess.run(acuracia,feed_dict={x:mnist.test.images,y:mnist.test.labels})\n",
    "        #Mostrando Resultado apos cada Epoch\n",
    "        print('Epoch:','{}'.format((epoch+1)), '--Custo treino: ', '{:.3f}'.format(custo_medio))\n",
    "        print('Treinamento Concluido')\n",
    "        print('Acc do modelo: ', acuracia.eval({x:mnist.test.images,y:mnist.test.labels}))"
   ]
  },
  {
   "cell_type": "code",
   "execution_count": null,
   "metadata": {},
   "outputs": [],
   "source": []
  }
 ],
 "metadata": {
  "kernelspec": {
   "display_name": "base",
   "language": "python",
   "name": "python3"
  },
  "language_info": {
   "codemirror_mode": {
    "name": "ipython",
    "version": 3
   },
   "file_extension": ".py",
   "mimetype": "text/x-python",
   "name": "python",
   "nbconvert_exporter": "python",
   "pygments_lexer": "ipython3",
   "version": "3.7.16"
  },
  "orig_nbformat": 4
 },
 "nbformat": 4,
 "nbformat_minor": 2
}
