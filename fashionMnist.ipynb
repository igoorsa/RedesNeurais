{
 "cells": [
  {
   "cell_type": "code",
   "execution_count": 29,
   "metadata": {},
   "outputs": [],
   "source": [
    "import matplotlib.pyplot as plt\n",
    "import numpy as np\n",
    "from keras.datasets import fashion_mnist\n",
    "from keras.utils.np_utils import to_categorical\n",
    "from keras import Sequential\n",
    "from keras.layers import Conv2D, MaxPooling2D, Dropout, Flatten, Dense\n",
    "from keras.preprocessing.image import ImageDataGenerator\n",
    "from keras.optimizers import Adam"
   ]
  },
  {
   "cell_type": "code",
   "execution_count": 25,
   "metadata": {},
   "outputs": [
    {
     "data": {
      "text/plain": [
       "((60000, 28, 28), (60000,))"
      ]
     },
     "execution_count": 25,
     "metadata": {},
     "output_type": "execute_result"
    }
   ],
   "source": [
    "(x_treino, y_treino), (x_teste, y_teste) = fashion_mnist.load_data()\n",
    "x_treino.shape, y_treino.shape"
   ]
  },
  {
   "cell_type": "code",
   "execution_count": 26,
   "metadata": {},
   "outputs": [],
   "source": [
    "y_treino = to_categorical(y_treino)\n",
    "y_teste = to_categorical(y_teste)"
   ]
  },
  {
   "cell_type": "code",
   "execution_count": 7,
   "metadata": {},
   "outputs": [
    {
     "data": {
      "text/plain": [
       "((60000, 28, 28, 1), (10000, 28, 28, 1))"
      ]
     },
     "execution_count": 7,
     "metadata": {},
     "output_type": "execute_result"
    }
   ],
   "source": [
    "x_treino_normalizado = x_treino/255.0\n",
    "x_teste_normalizado = x_teste/255.0\n",
    "x_treino_normalizado= x_treino_normalizado.reshape(60000,28,28,1)\n",
    "x_teste_normalizado=x_teste_normalizado.reshape(10000,28,28,1)\n",
    "x_treino_normalizado.shape, x_teste_normalizado.shape"
   ]
  },
  {
   "cell_type": "code",
   "execution_count": 11,
   "metadata": {},
   "outputs": [],
   "source": [
    "model = Sequential()\n",
    "model.add(Conv2D(filters=32,kernel_size=3,activation='relu',input_shape=(28,28,1)))\n",
    "model.add(Conv2D(filters=32,kernel_size=3,activation='relu'))\n",
    "model.add(MaxPooling2D(padding='same'))\n",
    "model.add(Dropout(0.2))\n",
    "model.add(Conv2D(filters=64,kernel_size=3,activation='relu'))\n",
    "model.add(Conv2D(filters=64,kernel_size=3,activation='relu'))\n",
    "model.add(MaxPooling2D(padding='same'))\n",
    "model.add(Dropout(0.2))\n",
    "model.add(Flatten())\n",
    "model.add(Dense(80,kernel_initializer='glorot_uniform', activation='relu'))\n",
    "model.add(Dropout(0.3))\n",
    "model.add(Dense(10,kernel_initializer='glorot_uniform', activation='softmax'))\n",
    "\n",
    "otimizador = Adam()\n",
    "\n",
    "model.compile(otimizador,loss='categorical_crossentropy', metrics=['acc'])"
   ]
  },
  {
   "cell_type": "code",
   "execution_count": 15,
   "metadata": {},
   "outputs": [],
   "source": [
    "au_date = ImageDataGenerator(width_shift_range=0.1,height_shift_range=0.1,horizontal_flip=True)\n",
    "x_transformado = au_date.flow(x_treino_normalizado,y_treino, batch_size=200)\n",
    "n_passos = int(x_treino.shape[0]/200)"
   ]
  },
  {
   "cell_type": "code",
   "execution_count": 18,
   "metadata": {},
   "outputs": [
    {
     "name": "stdout",
     "output_type": "stream",
     "text": [
      "Epoch 1/60\n",
      "300/300 [==============================] - 47s 155ms/step - loss: 0.6049 - acc: 0.7686 - val_loss: 0.4800 - val_acc: 0.8154\n",
      "Epoch 2/60\n",
      "300/300 [==============================] - 43s 143ms/step - loss: 0.5373 - acc: 0.7979 - val_loss: 0.4179 - val_acc: 0.8415\n",
      "Epoch 3/60\n",
      "300/300 [==============================] - 43s 144ms/step - loss: 0.4913 - acc: 0.8172 - val_loss: 0.3861 - val_acc: 0.8552\n",
      "Epoch 4/60\n",
      "300/300 [==============================] - 44s 145ms/step - loss: 0.4551 - acc: 0.8321 - val_loss: 0.3545 - val_acc: 0.8698\n",
      "Epoch 5/60\n",
      "300/300 [==============================] - 42s 142ms/step - loss: 0.4309 - acc: 0.8401 - val_loss: 0.3297 - val_acc: 0.8801\n",
      "Epoch 6/60\n",
      "300/300 [==============================] - 43s 145ms/step - loss: 0.4101 - acc: 0.8493 - val_loss: 0.3176 - val_acc: 0.8839\n",
      "Epoch 7/60\n",
      "300/300 [==============================] - 43s 143ms/step - loss: 0.3927 - acc: 0.8538 - val_loss: 0.3115 - val_acc: 0.8853\n",
      "Epoch 8/60\n",
      "300/300 [==============================] - 43s 142ms/step - loss: 0.3792 - acc: 0.8629 - val_loss: 0.2961 - val_acc: 0.8907\n",
      "Epoch 9/60\n",
      "300/300 [==============================] - 43s 143ms/step - loss: 0.3681 - acc: 0.8651 - val_loss: 0.2963 - val_acc: 0.8924\n",
      "Epoch 10/60\n",
      "300/300 [==============================] - 43s 144ms/step - loss: 0.3534 - acc: 0.8701 - val_loss: 0.2859 - val_acc: 0.8946\n",
      "Epoch 11/60\n",
      "300/300 [==============================] - 42s 139ms/step - loss: 0.3478 - acc: 0.8730 - val_loss: 0.2822 - val_acc: 0.8949\n",
      "Epoch 12/60\n",
      "300/300 [==============================] - 42s 141ms/step - loss: 0.3371 - acc: 0.8756 - val_loss: 0.2660 - val_acc: 0.9004\n",
      "Epoch 13/60\n",
      "300/300 [==============================] - 44s 146ms/step - loss: 0.3351 - acc: 0.8787 - val_loss: 0.2724 - val_acc: 0.9002\n",
      "Epoch 14/60\n",
      "300/300 [==============================] - 43s 143ms/step - loss: 0.3305 - acc: 0.8792 - val_loss: 0.2672 - val_acc: 0.9000\n",
      "Epoch 15/60\n",
      "300/300 [==============================] - 43s 145ms/step - loss: 0.3249 - acc: 0.8821 - val_loss: 0.2585 - val_acc: 0.9038\n",
      "Epoch 16/60\n",
      "300/300 [==============================] - 45s 148ms/step - loss: 0.3181 - acc: 0.8850 - val_loss: 0.2538 - val_acc: 0.9054\n",
      "Epoch 17/60\n",
      "300/300 [==============================] - 44s 148ms/step - loss: 0.3127 - acc: 0.8866 - val_loss: 0.2552 - val_acc: 0.9064\n",
      "Epoch 18/60\n",
      "300/300 [==============================] - 44s 146ms/step - loss: 0.3075 - acc: 0.8876 - val_loss: 0.2443 - val_acc: 0.9116\n",
      "Epoch 19/60\n",
      "300/300 [==============================] - 45s 150ms/step - loss: 0.3043 - acc: 0.8888 - val_loss: 0.2545 - val_acc: 0.9070\n",
      "Epoch 20/60\n",
      "300/300 [==============================] - 44s 145ms/step - loss: 0.3015 - acc: 0.8898 - val_loss: 0.2470 - val_acc: 0.9092\n",
      "Epoch 21/60\n",
      "300/300 [==============================] - 44s 146ms/step - loss: 0.2967 - acc: 0.8925 - val_loss: 0.2403 - val_acc: 0.9086\n",
      "Epoch 22/60\n",
      "300/300 [==============================] - 43s 144ms/step - loss: 0.2947 - acc: 0.8939 - val_loss: 0.2405 - val_acc: 0.9103\n",
      "Epoch 23/60\n",
      "300/300 [==============================] - 43s 144ms/step - loss: 0.2903 - acc: 0.8945 - val_loss: 0.2468 - val_acc: 0.9080\n",
      "Epoch 24/60\n",
      "300/300 [==============================] - 44s 145ms/step - loss: 0.2868 - acc: 0.8955 - val_loss: 0.2345 - val_acc: 0.9113\n",
      "Epoch 25/60\n",
      "300/300 [==============================] - 43s 144ms/step - loss: 0.2863 - acc: 0.8962 - val_loss: 0.2332 - val_acc: 0.9149\n",
      "Epoch 26/60\n",
      "300/300 [==============================] - 42s 141ms/step - loss: 0.2838 - acc: 0.8966 - val_loss: 0.2341 - val_acc: 0.9149\n",
      "Epoch 27/60\n",
      "300/300 [==============================] - 44s 146ms/step - loss: 0.2789 - acc: 0.8985 - val_loss: 0.2344 - val_acc: 0.9146\n",
      "Epoch 28/60\n",
      "300/300 [==============================] - 43s 144ms/step - loss: 0.2726 - acc: 0.9000 - val_loss: 0.2294 - val_acc: 0.9170\n",
      "Epoch 29/60\n",
      "300/300 [==============================] - 43s 145ms/step - loss: 0.2737 - acc: 0.9003 - val_loss: 0.2322 - val_acc: 0.9153\n",
      "Epoch 30/60\n",
      "300/300 [==============================] - 44s 146ms/step - loss: 0.2722 - acc: 0.8999 - val_loss: 0.2238 - val_acc: 0.9194\n",
      "Epoch 31/60\n",
      "300/300 [==============================] - 43s 145ms/step - loss: 0.2702 - acc: 0.9015 - val_loss: 0.2334 - val_acc: 0.9143\n",
      "Epoch 32/60\n",
      "300/300 [==============================] - 43s 144ms/step - loss: 0.2677 - acc: 0.9033 - val_loss: 0.2224 - val_acc: 0.9183\n",
      "Epoch 33/60\n",
      "300/300 [==============================] - 43s 145ms/step - loss: 0.2658 - acc: 0.9030 - val_loss: 0.2229 - val_acc: 0.9188\n",
      "Epoch 34/60\n",
      "300/300 [==============================] - 44s 146ms/step - loss: 0.2654 - acc: 0.9045 - val_loss: 0.2200 - val_acc: 0.9200\n",
      "Epoch 35/60\n",
      "300/300 [==============================] - 43s 144ms/step - loss: 0.2646 - acc: 0.9035 - val_loss: 0.2283 - val_acc: 0.9166\n",
      "Epoch 36/60\n",
      "300/300 [==============================] - 43s 145ms/step - loss: 0.2607 - acc: 0.9061 - val_loss: 0.2158 - val_acc: 0.9219\n",
      "Epoch 37/60\n",
      "300/300 [==============================] - 43s 144ms/step - loss: 0.2573 - acc: 0.9061 - val_loss: 0.2191 - val_acc: 0.9217\n",
      "Epoch 38/60\n",
      "300/300 [==============================] - 42s 139ms/step - loss: 0.2585 - acc: 0.9055 - val_loss: 0.2214 - val_acc: 0.9174\n",
      "Epoch 39/60\n",
      "300/300 [==============================] - 43s 144ms/step - loss: 0.2577 - acc: 0.9055 - val_loss: 0.2202 - val_acc: 0.9204\n",
      "Epoch 40/60\n",
      "300/300 [==============================] - 43s 144ms/step - loss: 0.2560 - acc: 0.9063 - val_loss: 0.2222 - val_acc: 0.9171\n",
      "Epoch 41/60\n",
      "300/300 [==============================] - 43s 143ms/step - loss: 0.2510 - acc: 0.9086 - val_loss: 0.2219 - val_acc: 0.9169\n",
      "Epoch 42/60\n",
      "300/300 [==============================] - 43s 143ms/step - loss: 0.2528 - acc: 0.9093 - val_loss: 0.2191 - val_acc: 0.9216\n",
      "Epoch 43/60\n",
      "300/300 [==============================] - 43s 143ms/step - loss: 0.2520 - acc: 0.9075 - val_loss: 0.2325 - val_acc: 0.9150\n",
      "Epoch 44/60\n",
      "300/300 [==============================] - 44s 145ms/step - loss: 0.2488 - acc: 0.9091 - val_loss: 0.2159 - val_acc: 0.9207\n",
      "Epoch 45/60\n",
      "300/300 [==============================] - 43s 144ms/step - loss: 0.2514 - acc: 0.9090 - val_loss: 0.2156 - val_acc: 0.9205\n",
      "Epoch 46/60\n",
      "300/300 [==============================] - 44s 145ms/step - loss: 0.2472 - acc: 0.9101 - val_loss: 0.2105 - val_acc: 0.9244\n",
      "Epoch 47/60\n",
      "300/300 [==============================] - 43s 144ms/step - loss: 0.2462 - acc: 0.9100 - val_loss: 0.2105 - val_acc: 0.9235\n",
      "Epoch 48/60\n",
      "300/300 [==============================] - 44s 147ms/step - loss: 0.2424 - acc: 0.9112 - val_loss: 0.2172 - val_acc: 0.9219\n",
      "Epoch 49/60\n",
      "300/300 [==============================] - 43s 143ms/step - loss: 0.2428 - acc: 0.9121 - val_loss: 0.2097 - val_acc: 0.9229\n",
      "Epoch 50/60\n",
      "300/300 [==============================] - 44s 145ms/step - loss: 0.2404 - acc: 0.9109 - val_loss: 0.2118 - val_acc: 0.9221\n",
      "Epoch 51/60\n",
      "300/300 [==============================] - 43s 142ms/step - loss: 0.2412 - acc: 0.9115 - val_loss: 0.2113 - val_acc: 0.9225\n",
      "Epoch 52/60\n",
      "300/300 [==============================] - 43s 144ms/step - loss: 0.2404 - acc: 0.9124 - val_loss: 0.2163 - val_acc: 0.9199\n",
      "Epoch 53/60\n",
      "300/300 [==============================] - 61s 203ms/step - loss: 0.2371 - acc: 0.9145 - val_loss: 0.2126 - val_acc: 0.9231\n",
      "Epoch 54/60\n",
      "300/300 [==============================] - 42s 139ms/step - loss: 0.2391 - acc: 0.9125 - val_loss: 0.2177 - val_acc: 0.9233\n",
      "Epoch 55/60\n",
      "300/300 [==============================] - 41s 138ms/step - loss: 0.2416 - acc: 0.9118 - val_loss: 0.2177 - val_acc: 0.9214\n",
      "Epoch 56/60\n",
      "300/300 [==============================] - 42s 140ms/step - loss: 0.2362 - acc: 0.9132 - val_loss: 0.2173 - val_acc: 0.9216\n",
      "Epoch 57/60\n",
      "300/300 [==============================] - 41s 138ms/step - loss: 0.2362 - acc: 0.9139 - val_loss: 0.2193 - val_acc: 0.9191\n",
      "Epoch 58/60\n",
      "300/300 [==============================] - 42s 139ms/step - loss: 0.2346 - acc: 0.9149 - val_loss: 0.2080 - val_acc: 0.9259\n",
      "Epoch 59/60\n",
      "300/300 [==============================] - 42s 142ms/step - loss: 0.2346 - acc: 0.9143 - val_loss: 0.2107 - val_acc: 0.9248\n",
      "Epoch 60/60\n",
      "300/300 [==============================] - 42s 139ms/step - loss: 0.2336 - acc: 0.9137 - val_loss: 0.2110 - val_acc: 0.9237\n"
     ]
    }
   ],
   "source": [
    "historico = model.fit_generator(x_transformado,epochs=60,steps_per_epoch=n_passos,validation_data=(x_teste_normalizado,y_teste), verbose=1)"
   ]
  },
  {
   "cell_type": "code",
   "execution_count": 27,
   "metadata": {},
   "outputs": [
    {
     "data": {
      "text/plain": [
       "array([0., 0., 0., 0., 0., 0., 0., 0., 0., 1.], dtype=float32)"
      ]
     },
     "execution_count": 27,
     "metadata": {},
     "output_type": "execute_result"
    },
    {
     "data": {
      "image/png": "[encoded data removed]",
      "text/plain": [
       "<Figure size 640x480 with 1 Axes>"
      ]
     },
     "metadata": {},
     "output_type": "display_data"
    }
   ],
   "source": [
    "plt.imshow(x_teste[0])\n",
    "y_teste[0]"
   ]
  },
  {
   "cell_type": "code",
   "execution_count": 28,
   "metadata": {},
   "outputs": [
    {
     "data": {
      "image/png": "[encoded data removed]",
      "text/plain": [
       "<Figure size 640x480 with 9 Axes>"
      ]
     },
     "metadata": {},
     "output_type": "display_data"
    }
   ],
   "source": [
    "for i in range(9):\n",
    "    plt.subplot(3,3,i+1)\n",
    "    plt.imshow(x_teste[i])"
   ]
  },
  {
   "cell_type": "code",
   "execution_count": 32,
   "metadata": {},
   "outputs": [
    {
     "name": "stdout",
     "output_type": "stream",
     "text": [
      "[9]\n",
      "[2]\n",
      "[1]\n",
      "[1]\n",
      "[6]\n",
      "[1]\n",
      "[4]\n",
      "[6]\n",
      "[5]\n"
     ]
    }
   ],
   "source": [
    "for i in range(9):\n",
    "    a = x_teste[i].reshape(28,28,1)/255\n",
    "    b = np.expand_dims(a,axis=0)\n",
    "    print(model.predict_classes(b))"
   ]
  },
  {
   "cell_type": "code",
   "execution_count": null,
   "metadata": {},
   "outputs": [],
   "source": []
  }
 ],
 "metadata": {
  "kernelspec": {
   "display_name": "tf",
   "language": "python",
   "name": "python3"
  },
  "language_info": {
   "codemirror_mode": {
    "name": "ipython",
    "version": 3
   },
   "file_extension": ".py",
   "mimetype": "text/x-python",
   "name": "python",
   "nbconvert_exporter": "python",
   "pygments_lexer": "ipython3",
   "version": "3.7.16"
  },
  "orig_nbformat": 4
 },
 "nbformat": 4,
 "nbformat_minor": 2
}
