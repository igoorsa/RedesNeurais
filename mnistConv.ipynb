{
 "cells": [
  {
   "cell_type": "code",
   "execution_count": 38,
   "metadata": {},
   "outputs": [],
   "source": [
    "from keras.datasets import mnist\n",
    "import keras\n",
    "from keras.layers import Conv2D, MaxPooling2D, Dense, Flatten,Dropout\n",
    "from keras.optimizers import Adam"
   ]
  },
  {
   "cell_type": "code",
   "execution_count": 6,
   "metadata": {},
   "outputs": [],
   "source": [
    "(x_treino,y_treino),(x_teste,y_teste) = mnist.load_data()"
   ]
  },
  {
   "cell_type": "code",
   "execution_count": 7,
   "metadata": {},
   "outputs": [
    {
     "data": {
      "text/plain": [
       "((60000, 28, 28), (10000, 28, 28))"
      ]
     },
     "execution_count": 7,
     "metadata": {},
     "output_type": "execute_result"
    }
   ],
   "source": [
    "x_treino.shape,x_teste.shape"
   ]
  },
  {
   "cell_type": "code",
   "execution_count": 8,
   "metadata": {},
   "outputs": [],
   "source": [
    "#modelando para padrao conv\n",
    "x_treino = x_treino.reshape(60000,28,28,1)\n",
    "x_teste = x_teste.reshape(10000,28,28,1)"
   ]
  },
  {
   "cell_type": "code",
   "execution_count": 10,
   "metadata": {},
   "outputs": [],
   "source": [
    "y_treino= keras.utils.np_utils.to_categorical(y_treino)\n",
    "y_teste= keras.utils.np_utils.to_categorical(y_teste)"
   ]
  },
  {
   "cell_type": "code",
   "execution_count": 11,
   "metadata": {},
   "outputs": [
    {
     "data": {
      "text/plain": [
       "((60000, 10), (10000, 10))"
      ]
     },
     "execution_count": 11,
     "metadata": {},
     "output_type": "execute_result"
    }
   ],
   "source": [
    "y_treino.shape,y_teste.shape"
   ]
  },
  {
   "cell_type": "code",
   "execution_count": 46,
   "metadata": {},
   "outputs": [],
   "source": [
    "#Criando o modelo\n",
    "modelo = keras.Sequential()\n",
    "modelo.add(Conv2D(filters=32,kernel_size=5,input_shape=(28,28,1), activation='relu'))\n",
    "modelo.add(MaxPooling2D(strides=None))\n",
    "modelo.add(Conv2D(filters=64,kernel_size=5,activation='relu'))\n",
    "modelo.add(MaxPooling2D(strides=None))\n",
    "modelo.add(Conv2D(filters=128,kernel_size=2,activation='relu'))\n",
    "modelo.add(MaxPooling2D(strides=None))\n",
    "modelo.add(Flatten())\n",
    "modelo.add(Dense(units=80,activation='relu',kernel_initializer='normal'))\n",
    "modelo.add(Dropout(0.2))\n",
    "modelo.add(Dense(10,activation='softmax', kernel_initializer='normal'))\n",
    "\n",
    "\n",
    "otimizador = Adam()\n",
    "\n",
    "modelo.compile(otimizador,loss='categorical_crossentropy',metrics=['acc'])"
   ]
  },
  {
   "cell_type": "code",
   "execution_count": 47,
   "metadata": {},
   "outputs": [
    {
     "name": "stdout",
     "output_type": "stream",
     "text": [
      "Train on 60000 samples, validate on 10000 samples\n",
      "Epoch 1/10\n",
      "60000/60000 [==============================] - 3s 56us/step - loss: 0.2777 - acc: 0.9153 - val_loss: 0.0616 - val_acc: 0.9817\n",
      "Epoch 2/10\n",
      "60000/60000 [==============================] - 3s 51us/step - loss: 0.0796 - acc: 0.9770 - val_loss: 0.0549 - val_acc: 0.9834\n",
      "Epoch 3/10\n",
      "60000/60000 [==============================] - 3s 50us/step - loss: 0.0594 - acc: 0.9826 - val_loss: 0.0450 - val_acc: 0.9876\n",
      "Epoch 4/10\n",
      "60000/60000 [==============================] - 3s 50us/step - loss: 0.0499 - acc: 0.9851 - val_loss: 0.0526 - val_acc: 0.9856\n",
      "Epoch 5/10\n",
      "60000/60000 [==============================] - 3s 49us/step - loss: 0.0419 - acc: 0.9877 - val_loss: 0.0507 - val_acc: 0.9861\n",
      "Epoch 6/10\n",
      "60000/60000 [==============================] - 3s 49us/step - loss: 0.0340 - acc: 0.9898 - val_loss: 0.0494 - val_acc: 0.9880\n",
      "Epoch 7/10\n",
      "60000/60000 [==============================] - 3s 49us/step - loss: 0.0372 - acc: 0.9891 - val_loss: 0.0358 - val_acc: 0.9912\n",
      "Epoch 8/10\n",
      "60000/60000 [==============================] - 3s 50us/step - loss: 0.0303 - acc: 0.9909 - val_loss: 0.0560 - val_acc: 0.9859\n",
      "Epoch 9/10\n",
      "60000/60000 [==============================] - 3s 49us/step - loss: 0.0300 - acc: 0.9910 - val_loss: 0.0503 - val_acc: 0.9871\n",
      "Epoch 10/10\n",
      "60000/60000 [==============================] - 3s 49us/step - loss: 0.0305 - acc: 0.9909 - val_loss: 0.0402 - val_acc: 0.9900\n"
     ]
    },
    {
     "data": {
      "text/plain": [
       "<keras.callbacks.callbacks.History at 0x22ea0d3f548>"
      ]
     },
     "execution_count": 47,
     "metadata": {},
     "output_type": "execute_result"
    }
   ],
   "source": [
    "modelo.fit(x_treino,y_treino,batch_size=100,epochs=10, validation_data=(x_teste,y_teste))"
   ]
  },
  {
   "cell_type": "code",
   "execution_count": null,
   "metadata": {},
   "outputs": [],
   "source": []
  }
 ],
 "metadata": {
  "kernelspec": {
   "display_name": "tf",
   "language": "python",
   "name": "python3"
  },
  "language_info": {
   "codemirror_mode": {
    "name": "ipython",
    "version": 3
   },
   "file_extension": ".py",
   "mimetype": "text/x-python",
   "name": "python",
   "nbconvert_exporter": "python",
   "pygments_lexer": "ipython3",
   "version": "3.7.16"
  },
  "orig_nbformat": 4
 },
 "nbformat": 4,
 "nbformat_minor": 2
}
